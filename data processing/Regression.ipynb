{
 "cells": [
  {
   "cell_type": "code",
   "execution_count": 20,
   "metadata": {},
   "outputs": [],
   "source": [
    "# Import declarations\n",
    "from sklearn.linear_model import LinearRegression\n",
    "from sklearn.model_selection import train_test_split\n",
    "import numpy as np\n",
    "import pandas as pd\n",
    "from rfpimp_MC import *\n",
    "import category_encoders as ce\n",
    "from pandas.api.types import is_string_dtype, is_object_dtype, is_categorical_dtype\n",
    "\n",
    "df_raw = pd.read_csv(\"../data collection/XboxOne_GameSales.csv\", encoding='latin-1')"
   ]
  },
  {
   "cell_type": "code",
   "execution_count": 21,
   "metadata": {},
   "outputs": [],
   "source": [
    "# Normalize String function from section 7.4 of the text book\n",
    "# Used to normalize missing string data types to np.nan\n",
    "# In this case 'N/A' and empty\n",
    "def df_normalize_strings(df):\n",
    "    for col in df.columns:\n",
    "        if is_string_dtype(df[col]) or is_object_dtype(df[col]):\n",
    "            df[col] = df[col].str.lower()\n",
    "            df[col] = df[col].fillna(np.nan)\n",
    "            df[col] = df[col].replace('unknown', np.nan)\n",
    "\n",
    "df_normalize_strings(df_raw)"
   ]
  },
  {
   "cell_type": "code",
   "execution_count": 22,
   "metadata": {},
   "outputs": [
    {
     "name": "stderr",
     "output_type": "stream",
     "text": [
      "C:\\Users\\sjare\\AppData\\Local\\Temp\\ipykernel_17860\\2494755687.py:8: DeprecationWarning: is_categorical_dtype is deprecated and will be removed in a future version. Use isinstance(dtype, pd.CategoricalDtype) instead\n",
      "  if is_categorical_dtype(df[col]):\n",
      "C:\\Users\\sjare\\AppData\\Local\\Temp\\ipykernel_17860\\2494755687.py:8: DeprecationWarning: is_categorical_dtype is deprecated and will be removed in a future version. Use isinstance(dtype, pd.CategoricalDtype) instead\n",
      "  if is_categorical_dtype(df[col]):\n",
      "C:\\Users\\sjare\\AppData\\Local\\Temp\\ipykernel_17860\\2494755687.py:8: DeprecationWarning: is_categorical_dtype is deprecated and will be removed in a future version. Use isinstance(dtype, pd.CategoricalDtype) instead\n",
      "  if is_categorical_dtype(df[col]):\n",
      "C:\\Users\\sjare\\AppData\\Local\\Temp\\ipykernel_17860\\2494755687.py:8: DeprecationWarning: is_categorical_dtype is deprecated and will be removed in a future version. Use isinstance(dtype, pd.CategoricalDtype) instead\n",
      "  if is_categorical_dtype(df[col]):\n"
     ]
    }
   ],
   "source": [
    "def df_string_to_cat(df):\n",
    "    for col in df.columns:\n",
    "        if is_string_dtype(df[col]) or is_object_dtype(df[col]):\n",
    "            df[col] = df[col].astype('category').cat.as_ordered()\n",
    "\n",
    "def df_cat_to_catcode(df):\n",
    "    for col in df.columns:\n",
    "        if is_categorical_dtype(df[col]):\n",
    "            df[col] = df[col].cat.codes + 1\n",
    "\n",
    "df_string_to_cat(df_raw)\n",
    "df_cat_to_catcode(df_raw)"
   ]
  },
  {
   "cell_type": "code",
   "execution_count": 23,
   "metadata": {},
   "outputs": [
    {
     "name": "stderr",
     "output_type": "stream",
     "text": [
      "C:\\Users\\sjare\\AppData\\Local\\Temp\\ipykernel_17860\\1123911679.py:4: FutureWarning: A value is trying to be set on a copy of a DataFrame or Series through chained assignment using an inplace method.\n",
      "The behavior will change in pandas 3.0. This inplace method will never work because the intermediate object on which we are setting values always behaves as a copy.\n",
      "\n",
      "For example, when doing 'df[col].method(value, inplace=True)', try using 'df.method({col: value}, inplace=True)' or df[col] = df[col].method(value) instead, to perform the operation inplace on the original object.\n",
      "\n",
      "\n",
      "  df[colname].fillna(df[colname].median(), inplace=True)\n"
     ]
    }
   ],
   "source": [
    "def fix_missing_num(df, colname):\n",
    "    df[colname+'_na'] = pd.isnull(df[colname])\n",
    "    df[colname] = df[colname].replace('N/A', np.nan)\n",
    "    df[colname].fillna(df[colname].median(), inplace=True)\n",
    "\n",
    "fix_missing_num(df_raw, 'Year')"
   ]
  },
  {
   "cell_type": "code",
   "execution_count": 24,
   "metadata": {},
   "outputs": [
    {
     "name": "stderr",
     "output_type": "stream",
     "text": [
      "C:\\Users\\sjare\\AppData\\Local\\Temp\\ipykernel_17860\\2310641355.py:5: SettingWithCopyWarning: \n",
      "A value is trying to be set on a copy of a slice from a DataFrame\n",
      "\n",
      "See the caveats in the documentation: https://pandas.pydata.org/pandas-docs/stable/user_guide/indexing.html#returning-a-view-versus-a-copy\n",
      "  df.drop(['North America', 'Europe', 'Japan', 'Rest of World'], axis= 1, inplace=True)\n",
      "C:\\Users\\sjare\\AppData\\Local\\Temp\\ipykernel_17860\\2310641355.py:8: SettingWithCopyWarning: \n",
      "A value is trying to be set on a copy of a slice from a DataFrame\n",
      "\n",
      "See the caveats in the documentation: https://pandas.pydata.org/pandas-docs/stable/user_guide/indexing.html#returning-a-view-versus-a-copy\n",
      "  df.drop('Pos', axis=True, inplace=True)\n",
      "C:\\Users\\sjare\\AppData\\Local\\Temp\\ipykernel_17860\\2310641355.py:11: SettingWithCopyWarning: \n",
      "A value is trying to be set on a copy of a slice from a DataFrame\n",
      "\n",
      "See the caveats in the documentation: https://pandas.pydata.org/pandas-docs/stable/user_guide/indexing.html#returning-a-view-versus-a-copy\n",
      "  df.drop('Game', axis=True, inplace=True)\n",
      "C:\\Users\\sjare\\AppData\\Local\\Temp\\ipykernel_17860\\2310641355.py:14: SettingWithCopyWarning: \n",
      "A value is trying to be set on a copy of a slice from a DataFrame\n",
      "\n",
      "See the caveats in the documentation: https://pandas.pydata.org/pandas-docs/stable/user_guide/indexing.html#returning-a-view-versus-a-copy\n",
      "  df.drop(['Year','Year_na'], axis=True, inplace=True)\n"
     ]
    }
   ],
   "source": [
    "# Removing games where global sales are 0. Meaning 0 sold\n",
    "df = df_raw[(df_raw.Global != 0)]\n",
    "\n",
    "# Dropping features related to the target\n",
    "df.drop(['North America', 'Europe', 'Japan', 'Rest of World'], axis= 1, inplace=True)\n",
    "\n",
    "# Dropping Position in order as it will throw off my prediction, since they are all in order\n",
    "df.drop('Pos', axis=True, inplace=True)\n",
    "\n",
    "# Dropping Game, since all are unique values and won't help predictability\n",
    "df.drop('Game', axis=True, inplace=True)\n",
    "\n",
    "# Dropping Game, since all are unique values and won't help predictability\n",
    "df.drop(['Year','Year_na'], axis=True, inplace=True)"
   ]
  },
  {
   "cell_type": "code",
   "execution_count": 25,
   "metadata": {},
   "outputs": [
    {
     "name": "stdout",
     "output_type": "stream",
     "text": [
      "OOB R^2 0.34685 using 43,372 tree nodes with 15.0 median tree height\n",
      "OOB R^2 0.33542 using 43,508 tree nodes with 14.5 median tree height\n",
      "OOB R^2 0.33229 using 43,360 tree nodes with 15.0 median tree height\n",
      "OOB R^2 0.33166 using 43,392 tree nodes with 15.0 median tree height\n",
      "OOB R^2 0.34501 using 43,278 tree nodes with 15.0 median tree height\n",
      "OOB R^2 0.32358 using 43,440 tree nodes with 15.0 median tree height\n",
      "OOB R^2 0.32952 using 43,186 tree nodes with 15.0 median tree height\n",
      "OOB R^2 0.33333 using 43,368 tree nodes with 15.0 median tree height\n",
      "OOB R^2 0.33053 using 43,380 tree nodes with 15.0 median tree height\n",
      "OOB R^2 0.33853 using 43,198 tree nodes with 15.0 median tree height\n"
     ]
    }
   ],
   "source": [
    "# Test Function from text book from Chapter 6\n",
    "def test(X, y, n_estimators=150):\n",
    "    rf = RandomForestRegressor(n_estimators=n_estimators, n_jobs=-1, oob_score=True)\n",
    "    rf.fit(X, y)\n",
    "    oob = rf.oob_score_\n",
    "    n = rfnnodes(rf)\n",
    "    h = np.median(rfmaxdepths(rf))\n",
    "    print(f\"OOB R^2 {oob:.5f} using {n:,d} tree nodes with {h} median tree height\")\n",
    "    return rf, oob\n",
    "\n",
    "# Creating model\n",
    "X = df.drop('Global', axis=1)\n",
    "y = df['Global']\n",
    "\n",
    "# Creating Model AND testing 10x\n",
    "for i in range(10):\n",
    "    rf, oob_initial = test(X, y) "
   ]
  }
 ],
 "metadata": {
  "kernelspec": {
   "display_name": "Python 3",
   "language": "python",
   "name": "python3"
  },
  "language_info": {
   "codemirror_mode": {
    "name": "ipython",
    "version": 3
   },
   "file_extension": ".py",
   "mimetype": "text/x-python",
   "name": "python",
   "nbconvert_exporter": "python",
   "pygments_lexer": "ipython3",
   "version": "3.12.0"
  }
 },
 "nbformat": 4,
 "nbformat_minor": 2
}
